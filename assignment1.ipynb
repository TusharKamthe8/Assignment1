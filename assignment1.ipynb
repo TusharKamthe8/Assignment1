{
 "cells": [
  {
   "cell_type": "markdown",
   "id": "2cb85a3f-a374-4cc0-ab75-161c21f951a5",
   "metadata": {},
   "source": [
    "1)Who \n",
    "developed python programming language?"
   ]
  },
  {
   "cell_type": "markdown",
   "id": "3b8e22ea-7bec-448c-8e93-2e009e029e8a",
   "metadata": {},
   "source": [
    "- Python was initially designed by Guido Van Rossum in 1991.It was later developed by Python software foundation."
   ]
  },
  {
   "cell_type": "markdown",
   "id": "2b00ccaa-9d2d-4a6b-8776-f290d242c070",
   "metadata": {},
   "source": [
    "2)Which type of programming does python support?"
   ]
  },
  {
   "cell_type": "markdown",
   "id": "b5525411-5b4f-41da-9b74-aab82a9e57ee",
   "metadata": {},
   "source": [
    "- Python supports object-oriented, structured, and functional programming."
   ]
  },
  {
   "cell_type": "markdown",
   "id": "ad089b3b-4211-47d5-b7c2-02088a5d271b",
   "metadata": {},
   "source": [
    "3)Is python case sensitive when dealing with identifiers?"
   ]
  },
  {
   "cell_type": "markdown",
   "id": "7fc41ead-1a1d-4c01-a6ab-70decd60b06f",
   "metadata": {},
   "source": [
    "- Yes "
   ]
  },
  {
   "cell_type": "markdown",
   "id": "7bfa4136-f701-4b5a-bc98-930553876096",
   "metadata": {},
   "source": [
    "4)What is the correct extension of a python file?\n"
   ]
  },
  {
   "cell_type": "markdown",
   "id": "708977ed-7ee4-40ea-81a8-77da2188406c",
   "metadata": {},
   "source": [
    "- .py"
   ]
  },
  {
   "cell_type": "markdown",
   "id": "a641f2f5-ae26-41ed-8ffa-2b2b66a4daf9",
   "metadata": {},
   "source": [
    "5)Is python code complied or interpreted?"
   ]
  },
  {
   "cell_type": "markdown",
   "id": "69d4934d-a184-445c-a875-82576a78145f",
   "metadata": {},
   "source": [
    "- Python is a both compiled and interpreted language."
   ]
  },
  {
   "cell_type": "markdown",
   "id": "690dbe9b-10d7-487c-8883-21e3eb707485",
   "metadata": {},
   "source": [
    "6)Name a few blocks of code used to define in python language?"
   ]
  },
  {
   "cell_type": "markdown",
   "id": "0bd38d9e-0c87-4908-8d0a-0dafd4a4d4d8",
   "metadata": {},
   "source": [
    "- Indentation is used in Python."
   ]
  },
  {
   "cell_type": "markdown",
   "id": "147c968b-c92d-409a-8462-fef9b57edbac",
   "metadata": {},
   "source": [
    "7)State a character used to give single line comments in python?"
   ]
  },
  {
   "cell_type": "markdown",
   "id": "59606623-09fa-4e5a-9869-290c1e347fcd",
   "metadata": {},
   "source": [
    "- \"#\" is used to give single line comments in python."
   ]
  },
  {
   "cell_type": "markdown",
   "id": "bf59f719-a41f-44d9-a6d2-fbc694c2a700",
   "metadata": {},
   "source": [
    "8)Mention functions which help us to find out current version of python which we are currently working upon?"
   ]
  },
  {
   "cell_type": "markdown",
   "id": "131d0a16-72a6-4c90-b332-437a948e3ebf",
   "metadata": {},
   "source": [
    "- version() function"
   ]
  },
  {
   "cell_type": "markdown",
   "id": "dbaf7932-a038-4f57-8d09-7f77601bb5de",
   "metadata": {},
   "source": [
    "9)Python supports creation of annonymous function at runtime, using a construct called?"
   ]
  },
  {
   "cell_type": "markdown",
   "id": "f2792402-7d10-40e9-93e3-64c7f96803db",
   "metadata": {},
   "source": [
    "- Lambda"
   ]
  },
  {
   "cell_type": "markdown",
   "id": "d1de18c0-25f6-4bf1-9488-64e88fee46bb",
   "metadata": {},
   "source": [
    "10)What does the pip stand for in python?"
   ]
  },
  {
   "cell_type": "markdown",
   "id": "cf0462e2-0b6a-4561-ac59-1be473d1848b",
   "metadata": {},
   "source": [
    "- Used to install and uninstall python packages."
   ]
  },
  {
   "cell_type": "markdown",
   "id": "fe34ad36-c71d-48b9-920b-7035538f8fab",
   "metadata": {},
   "source": [
    "11)Mention a few built-in funtions used in python?"
   ]
  },
  {
   "cell_type": "markdown",
   "id": "4b5e1255-17e8-4727-9d61-c71080c05e6b",
   "metadata": {},
   "source": [
    "- len(), range(), format() are some of the inbuilt functions in python."
   ]
  },
  {
   "cell_type": "markdown",
   "id": "630af396-0bac-44b2-b1fc-08fe61bbb8b9",
   "metadata": {},
   "source": [
    "12)What is the maximum possible length of an identifier in python?"
   ]
  },
  {
   "cell_type": "markdown",
   "id": "3cb388f6-3163-4f8a-a66a-76b2ab10cf71",
   "metadata": {},
   "source": [
    "- 79 characters"
   ]
  },
  {
   "cell_type": "markdown",
   "id": "2a9796d3-3639-42fd-bb5b-e7bf516442c0",
   "metadata": {},
   "source": [
    "13)What are the benifts of using python?"
   ]
  },
  {
   "cell_type": "markdown",
   "id": "5f9001cd-291d-4b97-ad77-f5d827497275",
   "metadata": {},
   "source": [
    "- Extensive support libraries\n",
    "- High-level language \n",
    "- Dynamically typed language\n",
    "- Object-Oriented Programming language\n",
    "- Highly Efficient\n",
    "- Interpreted Language"
   ]
  },
  {
   "cell_type": "markdown",
   "id": "e17c8ef0-02ed-4409-8467-785761dfa29e",
   "metadata": {},
   "source": [
    "14)How is memory managed in python?"
   ]
  },
  {
   "cell_type": "markdown",
   "id": "19a46c0f-6ff8-460a-a549-64db3dbe0a7b",
   "metadata": {},
   "source": [
    "- There are two parts of memory stack memory and heap memory.\n",
    "- The methods/method calls and the references are stored in stack memory.\n",
    "- The values objects are stored in heap memory."
   ]
  },
  {
   "cell_type": "markdown",
   "id": "62ddcadc-581d-4288-8f25-5c9e41a84baa",
   "metadata": {},
   "source": [
    "15)How to instal python in windows and set path variable?"
   ]
  },
  {
   "cell_type": "markdown",
   "id": "f7e01cbb-e80d-4ed1-87da-b55526402e0a",
   "metadata": {},
   "source": [
    "- Download the Python Installer binaries.\n",
    "- Run the Executable Installer.\n",
    "- Add Python to environmental variables.\n"
   ]
  },
  {
   "cell_type": "markdown",
   "id": "590b03a7-99a7-4037-8b2d-d680716228c3",
   "metadata": {},
   "source": [
    "16)Is identation required in python?"
   ]
  },
  {
   "cell_type": "markdown",
   "id": "0effbc85-5af5-4d25-b246-1db40b645d62",
   "metadata": {},
   "source": [
    "- Yes indentation is required in python."
   ]
  },
  {
   "cell_type": "code",
   "execution_count": null,
   "id": "e902eff8-3c43-481e-bcb8-3f03678dd202",
   "metadata": {},
   "outputs": [],
   "source": []
  }
 ],
 "metadata": {
  "kernelspec": {
   "display_name": "Python 3 (ipykernel)",
   "language": "python",
   "name": "python3"
  },
  "language_info": {
   "codemirror_mode": {
    "name": "ipython",
    "version": 3
   },
   "file_extension": ".py",
   "mimetype": "text/x-python",
   "name": "python",
   "nbconvert_exporter": "python",
   "pygments_lexer": "ipython3",
   "version": "3.10.6"
  }
 },
 "nbformat": 4,
 "nbformat_minor": 5
}
